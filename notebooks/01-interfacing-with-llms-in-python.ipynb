{
 "cells": [
  {
   "cell_type": "markdown",
   "metadata": {},
   "source": [
    "# 1. Interfacing with LLMs in Python\n",
    "\n",
    "Hi! It's time to get your hands dirty! You will work on exercises that we built to help you understand and apply the material. Before you do so, let's make sure everything is working.\n",
    "\n",
    "We will test:\n",
    "- Jupyter Notebook kernel setup\n",
    "- Pip package imports\n",
    "- Local package imports\n",
    "- Google Cloud connection"
   ]
  },
  {
   "cell_type": "markdown",
   "metadata": {},
   "source": [
    "1. **VSCode setup**. Let's tell VSCode which Python interpeter and Jupyter kernel to use. \n",
    "    1. Open the command palette (Ctrl+Shift+P) and type \"Python: Select Interpreter\".\n",
    "    2. Select **`.venv`**.\n",
    "\n",
    "        <img src=\"../docs/Screenshot 2025-02-10 at 17.00.08.png\" width=\"400\"/>\n",
    "\n",
    "\n",
    "    3. Open the command palette (Ctrl+Shift+P) and type \"Notebook: Select Notebook Kernel\".\n",
    "    4. Select **`.venv`**.\n",
    "\n",
    "        <img src=\"../docs/Screenshot 2025-02-10 at 17.00.08.png\" width=\"400\"/>\n",
    "\n",
    "    5. Open the command palette (Ctrl+Shift+P) and type \"Reload Window\".\n",
    "\n",
    "        <small>Note: this reloads the extensions to make sure _syntax highlighting_ is working properly after having selected the interpreter.</small>\n",
    "    \n",
    "    Now, try running the code below:"
   ]
  },
  {
   "cell_type": "code",
   "execution_count": null,
   "metadata": {},
   "outputs": [],
   "source": [
    "import math\n",
    "\n",
    "assert math.ceil(2.4), 3\n",
    "\n",
    "print(\"Jupyter kernel is running ✅\")"
   ]
  },
  {
   "cell_type": "markdown",
   "metadata": {},
   "source": [
    "2. **Pip package imports**. Next, we can verify whether we have successfully installed packages from PyPi. "
   ]
  },
  {
   "cell_type": "code",
   "execution_count": null,
   "metadata": {},
   "outputs": [],
   "source": [
    "from google import genai\n",
    "\n",
    "print(f\"google-genai version: {genai.version.__version__}\")\n",
    "\n",
    "print(\"PyPi imports are working ✅\")"
   ]
  },
  {
   "cell_type": "markdown",
   "metadata": {},
   "source": [
    "3. **Local package imports**. We also have our own package that we will use throughout the course, located in the `src` folder. Let's check if we can import it."
   ]
  },
  {
   "cell_type": "code",
   "execution_count": null,
   "metadata": {},
   "outputs": [],
   "source": [
    "import building_llm_apps  # noqa\n",
    "\n",
    "\"Local imports are working ✅\""
   ]
  },
  {
   "cell_type": "markdown",
   "metadata": {},
   "source": [
    "4. **Google Cloud connection**. Lastly, we will test if we can connect to GCP. Super important! Since we are going to work with Vertex AI and we need to connect to that.\n",
    "\n",
    "    In your terminal run:\n",
    "\n",
    "    ```\n",
    "    gcloud auth login\n",
    "    ```\n",
    "\n",
    "    ... and follow the instructions. Then run:\n",
    "\n",
    "    ```\n",
    "    gcloud config set project GOOGLE_CLOUD_PROJECT\n",
    "    ```\n",
    "\n",
    "    ... replacing `GOOGLE_CLOUD_PROJECT` with our GCP project ID. You can find the project id by visiting the [Google Cloud Console](https://console.cloud.google.com/), select a project in the left top corner, click _ALL_ to see all projects and select the project created for this training. Then obtain the _project id_, not the project name.\n",
    "\n",
    "    Create a `.env` file in the root of the project and add the following line to it:\n",
    "\n",
    "    ```\n",
    "    GOOGLE_CLOUD_PROJECT=YOUR_GOOGLE_CLOUD_PROJECT\n",
    "    ```\n",
    "\n",
    "    Then now also set the application-default credentials:\n",
    "\n",
    "    ```\n",
    "    gcloud auth application-default login\n",
    "    ```\n",
    "\n",
    "    ... once you are also logged into Application Default Credentials, let's now see if we can access Google API's:"
   ]
  },
  {
   "cell_type": "code",
   "execution_count": null,
   "metadata": {},
   "outputs": [],
   "source": [
    "from dotenv import load_dotenv\n",
    "import os\n",
    "\n",
    "load_dotenv()\n",
    "\n",
    "GOOGLE_CLOUD_PROJECT = os.environ[\"GOOGLE_CLOUD_PROJECT\"]\n",
    "GOOGLE_CLOUD_PROJECT"
   ]
  },
  {
   "cell_type": "markdown",
   "metadata": {},
   "source": [
    "We are using the [`google-genai`](https://github.com/googleapis/python-genai) package. Let's initialise a client."
   ]
  },
  {
   "cell_type": "code",
   "execution_count": null,
   "metadata": {},
   "outputs": [],
   "source": [
    "client = genai.Client(\n",
    "    vertexai=True, project=GOOGLE_CLOUD_PROJECT, location=\"europe-west4\"\n",
    ")"
   ]
  },
  {
   "cell_type": "code",
   "execution_count": null,
   "metadata": {},
   "outputs": [],
   "source": [
    "response = client.models.generate_content(\n",
    "    model=\"gemini-2.0-flash\", contents=\"tell me about South Africa\"\n",
    ")\n",
    "\n",
    "print(f\"Response: {response.text}\")\n",
    "print(\"GCP connection is working ✅\")"
   ]
  },
  {
   "cell_type": "markdown",
   "metadata": {},
   "source": [
    "Congrats! 🎉 You now have your environment correctly set up. Let's get started! 🚀"
   ]
  },
  {
   "cell_type": "markdown",
   "metadata": {},
   "source": [
    "We can now also send other content to the model:"
   ]
  },
  {
   "cell_type": "code",
   "execution_count": null,
   "metadata": {},
   "outputs": [],
   "source": [
    "from google.genai import types\n",
    "from pathlib import Path\n",
    "\n",
    "image_path = Path(\"../data/wine_list.jpg\")\n",
    "\n",
    "wine_list_img = types.Part.from_bytes(\n",
    "    data=image_path.read_bytes(), mime_type=\"image/jpeg\"\n",
    ")"
   ]
  },
  {
   "cell_type": "code",
   "execution_count": null,
   "metadata": {},
   "outputs": [],
   "source": [
    "response = client.models.generate_content(\n",
    "    model=\"gemini-2.0-flash-001\",\n",
    "    contents=[\"List all items on this menu card\", wine_list_img],\n",
    "    config=types.GenerateContentConfig(\n",
    "        temperature=0.2,\n",
    "    ),\n",
    ")\n",
    "print(response.text)"
   ]
  },
  {
   "cell_type": "markdown",
   "metadata": {},
   "source": [
    "Or perhaps in a more structured way."
   ]
  },
  {
   "cell_type": "code",
   "execution_count": null,
   "metadata": {},
   "outputs": [],
   "source": [
    "response = client.models.generate_content(\n",
    "    model=\"gemini-2.0-flash-001\",\n",
    "    contents=[\n",
    "        \"List all items on this menu card including all details like quantity, etc\",\n",
    "        wine_list_img,\n",
    "        \"return the items in a JSON.\",\n",
    "    ],\n",
    "    config=types.GenerateContentConfig(\n",
    "        temperature=0.2,\n",
    "    ),\n",
    ")\n",
    "print(response.text)"
   ]
  },
  {
   "cell_type": "markdown",
   "metadata": {},
   "source": [
    "This is Structured Data Extraction. [See this blogpost](https://xebia.com/blog/genai-automation-opportunity-sde/) on how to do this properly ([code example](https://github.com/xebia/genai-data-extraction/blob/main/notebooks/menu_card.ipynb))."
   ]
  }
 ],
 "metadata": {
  "kernelspec": {
   "display_name": ".venv",
   "language": "python",
   "name": "python3"
  },
  "language_info": {
   "codemirror_mode": {
    "name": "ipython",
    "version": 3
   },
   "file_extension": ".py",
   "mimetype": "text/x-python",
   "name": "python",
   "nbconvert_exporter": "python",
   "pygments_lexer": "ipython3",
   "version": "3.13.1"
  }
 },
 "nbformat": 4,
 "nbformat_minor": 2
}
