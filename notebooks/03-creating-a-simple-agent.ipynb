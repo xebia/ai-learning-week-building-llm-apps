{
 "cells": [
  {
   "cell_type": "markdown",
   "id": "a24424fb",
   "metadata": {},
   "source": [
    "# 3. Creating a Simple Agent\n",
    "\n",
    "In this notebook, we will learn how to create a simple agent using the [`google-adk`](https://github.com/google/adk-python) library. Agents are AI systems that can perform tasks by reasoning, planning, and interacting with tools or APIs."
   ]
  },
  {
   "cell_type": "markdown",
   "id": "a22d3ddb",
   "metadata": {},
   "source": [
    "First, go your `.env` file in fill in the missing variables."
   ]
  },
  {
   "cell_type": "markdown",
   "id": "4fd43b0a",
   "metadata": {},
   "source": [
    "## Step 1: Import Required Libraries\n",
    "\n",
    "We will start by importing the necessary libraries and defining constants for our agent."
   ]
  },
  {
   "cell_type": "code",
   "execution_count": 12,
   "id": "6ea627ea",
   "metadata": {},
   "outputs": [],
   "source": [
    "import json\n",
    "from google.adk.agents import LlmAgent\n",
    "from google.adk.runners import Runner\n",
    "from google.adk.sessions import InMemorySessionService\n",
    "from google.genai import types\n",
    "from pydantic import BaseModel, Field\n",
    "\n",
    "# Define constants\n",
    "APP_NAME = \"agent_comparison_app\"\n",
    "USER_ID = \"test_user_456\"\n",
    "SESSION_ID_TOOL_AGENT = \"session_tool_agent_xyz\"\n",
    "SESSION_ID_SCHEMA_AGENT = \"session_schema_agent_xyz\"\n",
    "MODEL_NAME = \"gemini-2.0-flash\""
   ]
  },
  {
   "cell_type": "markdown",
   "id": "4ad41a29",
   "metadata": {},
   "source": [
    "## Step 2: Define Input and Output Schemas\n",
    "\n",
    "We will define the input schema for both agents and the output schema for the second agent. These schemas ensure that the agents understand the structure of the data they process."
   ]
  },
  {
   "cell_type": "code",
   "execution_count": 13,
   "id": "159de480",
   "metadata": {},
   "outputs": [],
   "source": [
    "class CountryInput(BaseModel):\n",
    "    country: str = Field(description=\"The country to get information about.\")\n",
    "\n",
    "\n",
    "class CapitalInfoOutput(BaseModel):\n",
    "    capital: str = Field(description=\"The capital city of the country.\")\n",
    "    population_estimate: str = Field(\n",
    "        description=\"An estimated population of the capital city.\"\n",
    "    )"
   ]
  },
  {
   "cell_type": "markdown",
   "id": "c4bf21d6",
   "metadata": {},
   "source": [
    "## Step 3: Define a Tool\n",
    "\n",
    "The first agent will use a tool to retrieve the capital city of a country. Here, we define the tool as a Python function."
   ]
  },
  {
   "cell_type": "code",
   "execution_count": 14,
   "id": "8491dd8d",
   "metadata": {},
   "outputs": [],
   "source": [
    "def get_capital_city(country: str) -> str:\n",
    "    \"\"\"Retrieves the capital city of a given country.\"\"\"\n",
    "    country_capitals = {\n",
    "        \"united states\": \"Washington, D.C.\",\n",
    "        \"canada\": \"Ottawa\",\n",
    "        \"france\": \"Paris\",\n",
    "        \"japan\": \"Tokyo\",\n",
    "    }\n",
    "    return country_capitals.get(\n",
    "        country.lower(), f\"Sorry, I couldn't find the capital for {country}.\"\n",
    "    )"
   ]
  },
  {
   "cell_type": "markdown",
   "id": "b32f9b00",
   "metadata": {},
   "source": [
    "## Step 4: Configure Agents\n",
    "\n",
    "We will now configure two agents:\n",
    "1. An agent that uses the `get_capital_city` tool.\n",
    "2. An agent that provides structured information without using tools."
   ]
  },
  {
   "cell_type": "code",
   "execution_count": 15,
   "id": "744db88e",
   "metadata": {},
   "outputs": [],
   "source": [
    "capital_agent_with_tool = LlmAgent(\n",
    "    model=MODEL_NAME,\n",
    "    name=\"capital_agent_tool\",\n",
    "    description=\"Retrieves the capital city using a specific tool.\",\n",
    "    instruction=\"\"\"You are a helpful agent that provides the capital city of a country using a tool.\n",
    "The user will provide the country name in a JSON format like {\\\"country\\\": \\\"country_name\\\"}.\n",
    "1. Extract the country name.\n",
    "2. Use the `get_capital_city` tool to find the capital.\n",
    "3. Respond clearly to the user, stating the capital city found by the tool.\"\"\",\n",
    "    tools=[get_capital_city],\n",
    "    input_schema=CountryInput,\n",
    "    output_key=\"capital_tool_result\",\n",
    ")"
   ]
  },
  {
   "cell_type": "code",
   "execution_count": 16,
   "id": "5b8a2753",
   "metadata": {},
   "outputs": [],
   "source": [
    "instruction = f\"\"\"You are an agent that provides country information.\n",
    "The user will provide the country name in a JSON format like {{\\\"country\\\": \\\"country_name\\\"}}.\n",
    "Respond ONLY with a JSON object matching this exact schema:\n",
    "{json.dumps(CapitalInfoOutput.model_json_schema(), indent=2)}\n",
    "Use your knowledge to determine the capital and estimate the population. Do not use any tools.\n",
    "\"\"\"\n",
    "\n",
    "structured_info_agent_schema = LlmAgent(\n",
    "    model=MODEL_NAME,\n",
    "    name=\"structured_info_agent_schema\",\n",
    "    description=\"Provides capital and estimated population in a specific JSON format.\",\n",
    "    instruction=instruction,\n",
    "    input_schema=CountryInput,\n",
    "    output_schema=CapitalInfoOutput,\n",
    "    output_key=\"structured_info_result\",\n",
    "    disallow_transfer_to_parent=True,\n",
    "    disallow_transfer_to_peers=True,\n",
    ")"
   ]
  },
  {
   "cell_type": "markdown",
   "id": "383abd5a",
   "metadata": {},
   "source": [
    "## Step 5: Set Up Session Management and Runners\n",
    "\n",
    "We will create sessions for each agent and set up runners to manage their interactions."
   ]
  },
  {
   "cell_type": "code",
   "execution_count": 17,
   "id": "41e1184b",
   "metadata": {},
   "outputs": [],
   "source": [
    "session_service = InMemorySessionService()\n",
    "\n",
    "session_service.create_session(\n",
    "    app_name=APP_NAME, user_id=USER_ID, session_id=SESSION_ID_TOOL_AGENT\n",
    ")\n",
    "session_service.create_session(\n",
    "    app_name=APP_NAME, user_id=USER_ID, session_id=SESSION_ID_SCHEMA_AGENT\n",
    ")\n",
    "\n",
    "capital_runner = Runner(\n",
    "    agent=capital_agent_with_tool, app_name=APP_NAME, session_service=session_service\n",
    ")\n",
    "structured_runner = Runner(\n",
    "    agent=structured_info_agent_schema,\n",
    "    app_name=APP_NAME,\n",
    "    session_service=session_service,\n",
    ")"
   ]
  },
  {
   "cell_type": "markdown",
   "id": "24327de2",
   "metadata": {},
   "source": [
    "## Step 6: Define Agent Interaction Logic\n",
    "\n",
    "We will define a function to interact with the agents and print their responses."
   ]
  },
  {
   "cell_type": "code",
   "execution_count": 18,
   "id": "ed36c6c0",
   "metadata": {},
   "outputs": [],
   "source": [
    "async def call_agent_and_print(\n",
    "    runner_instance: Runner, agent_instance: LlmAgent, session_id: str, query_json: str\n",
    "):\n",
    "    \"\"\"Sends a query to the specified agent/runner and prints results.\"\"\"\n",
    "    print(f\"\\n>>> Calling Agent: '{agent_instance.name}' | Query: {query_json}\")\n",
    "\n",
    "    user_content = types.Content(role=\"user\", parts=[types.Part(text=query_json)])\n",
    "\n",
    "    final_response_content = \"No final response received.\"\n",
    "    async for event in runner_instance.run_async(\n",
    "        user_id=USER_ID, session_id=session_id, new_message=user_content\n",
    "    ):\n",
    "        # print(f\"Event: {event.type}, Author: {event.author}\") # Uncomment for detailed logging\n",
    "        if event.is_final_response() and event.content and event.content.parts:\n",
    "            # For output_schema, the content is the JSON string itself\n",
    "            final_response_content = event.content.parts[0].text\n",
    "\n",
    "    print(f\"<<< Agent '{agent_instance.name}' Response: {final_response_content}\")\n",
    "\n",
    "    current_session = session_service.get_session(\n",
    "        app_name=APP_NAME, user_id=USER_ID, session_id=session_id\n",
    "    )\n",
    "    stored_output = current_session.state.get(agent_instance.output_key)\n",
    "\n",
    "    # Pretty print if the stored output looks like JSON (likely from output_schema)\n",
    "    print(f\"--- Session State ['{agent_instance.output_key}']: \", end=\"\")\n",
    "    try:\n",
    "        # Attempt to parse and pretty print if it's JSON\n",
    "        parsed_output = json.loads(stored_output)\n",
    "        print(json.dumps(parsed_output, indent=2))\n",
    "    except (json.JSONDecodeError, TypeError):\n",
    "        # Otherwise, print as string\n",
    "        print(stored_output)\n",
    "    print(\"-\" * 30)"
   ]
  },
  {
   "cell_type": "markdown",
   "id": "b7a690c7",
   "metadata": {},
   "source": [
    "## Step 7: Run Interactions\n",
    "\n",
    "Finally, we will test the agents by sending queries and observing their responses."
   ]
  },
  {
   "cell_type": "code",
   "execution_count": 19,
   "id": "6f6f3017",
   "metadata": {},
   "outputs": [
    {
     "name": "stdout",
     "output_type": "stream",
     "text": [
      "--- Testing Agent with Tool ---\n",
      "\n",
      ">>> Calling Agent: 'capital_agent_tool' | Query: {\"country\": \"France\"}\n"
     ]
    },
    {
     "name": "stderr",
     "output_type": "stream",
     "text": [
      "Warning: there are non-text parts in the response: ['function_call'],returning concatenated text result from text parts,check out the non text parts for full response from model.\n"
     ]
    },
    {
     "name": "stdout",
     "output_type": "stream",
     "text": [
      "<<< Agent 'capital_agent_tool' Response: The capital city of France is Paris.\n",
      "\n",
      "--- Session State ['capital_tool_result']: The capital city of France is Paris.\n",
      "\n",
      "------------------------------\n",
      "\n",
      ">>> Calling Agent: 'capital_agent_tool' | Query: {\"country\": \"Canada\"}\n"
     ]
    },
    {
     "name": "stderr",
     "output_type": "stream",
     "text": [
      "Warning: there are non-text parts in the response: ['function_call'],returning concatenated text result from text parts,check out the non text parts for full response from model.\n"
     ]
    },
    {
     "name": "stdout",
     "output_type": "stream",
     "text": [
      "<<< Agent 'capital_agent_tool' Response: The capital city of Canada is Ottawa.\n",
      "\n",
      "--- Session State ['capital_tool_result']: The capital city of Canada is Ottawa.\n",
      "\n",
      "------------------------------\n",
      "\n",
      "\n",
      "--- Testing Agent with Output Schema (No Tool Use) ---\n",
      "\n",
      ">>> Calling Agent: 'structured_info_agent_schema' | Query: {\"country\": \"France\"}\n",
      "<<< Agent 'structured_info_agent_schema' Response: {\n",
      "  \"capital\": \"Paris\",\n",
      "  \"population_estimate\": \"2.1 million\"\n",
      "}\n",
      "--- Session State ['structured_info_result']: {'capital': 'Paris', 'population_estimate': '2.1 million'}\n",
      "------------------------------\n",
      "\n",
      ">>> Calling Agent: 'structured_info_agent_schema' | Query: {\"country\": \"Japan\"}\n",
      "<<< Agent 'structured_info_agent_schema' Response: {\n",
      "  \"capital\": \"Tokyo\",\n",
      "  \"population_estimate\": \"14 million\"\n",
      "}\n",
      "--- Session State ['structured_info_result']: {'capital': 'Tokyo', 'population_estimate': '14 million'}\n",
      "------------------------------\n"
     ]
    }
   ],
   "source": [
    "async def main():\n",
    "    print(\"--- Testing Agent with Tool ---\")\n",
    "    await call_agent_and_print(\n",
    "        capital_runner,\n",
    "        capital_agent_with_tool,\n",
    "        SESSION_ID_TOOL_AGENT,\n",
    "        '{\"country\": \"France\"}',\n",
    "    )\n",
    "    await call_agent_and_print(\n",
    "        capital_runner,\n",
    "        capital_agent_with_tool,\n",
    "        SESSION_ID_TOOL_AGENT,\n",
    "        '{\"country\": \"Canada\"}',\n",
    "    )\n",
    "\n",
    "    print(\"\\n\\n--- Testing Agent with Output Schema (No Tool Use) ---\")\n",
    "    await call_agent_and_print(\n",
    "        structured_runner,\n",
    "        structured_info_agent_schema,\n",
    "        SESSION_ID_SCHEMA_AGENT,\n",
    "        '{\"country\": \"France\"}',\n",
    "    )\n",
    "    await call_agent_and_print(\n",
    "        structured_runner,\n",
    "        structured_info_agent_schema,\n",
    "        SESSION_ID_SCHEMA_AGENT,\n",
    "        '{\"country\": \"Japan\"}',\n",
    "    )\n",
    "\n",
    "\n",
    "# run in synchronous context\n",
    "await main()"
   ]
  },
  {
   "cell_type": "markdown",
   "id": "dff4ec78",
   "metadata": {},
   "source": [
    "## Recap & Next Steps\n",
    "\n",
    "You've just built and interacted with a basic agent!\n",
    "\n",
    "**Key Concepts:**\n",
    "*   **Tools:** Functions the agent can use.\n",
    "*   **FunctionDeclaration:** Describing tools for the LLM.\n",
    "*   **FunctionCall:** The LLM requesting a tool execution.\n",
    "*   **FunctionResponse:** Providing the tool's result back to the LLM.\n",
    "*   **Multi-turn Conversation:** The interaction often involves back-and-forth between the user, LLM, and tools.\n",
    "\n",
    "> #### 🎁 Bonus exercises 📝\n",
    "> - **Add More Tools:** Create another tool (e.g., one that returns the current date) and add its `FunctionDeclaration` to the `tools` list.\n",
    "> - **Error Handling:** What happens if the user asks for division by zero? How could you make the agent handle tool errors more gracefully?\n",
    "> - **Complex Queries:** Try asking multi-step questions like \"What is 5 plus 3, and then multiply the result by 2?\". Does the agent handle it in one go or multiple steps?\n",
    "> - **Explore Frameworks:** Libraries like LangChain or LlamaIndex provide higher-level abstractions for building more complex agents."
   ]
  }
 ],
 "metadata": {
  "language_info": {
   "name": "python"
  }
 },
 "nbformat": 4,
 "nbformat_minor": 5
}
